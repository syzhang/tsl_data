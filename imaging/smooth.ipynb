{
 "cells": [
  {
   "cell_type": "markdown",
   "metadata": {},
   "source": [
    "## smoothing preproc images using nipype"
   ]
  },
  {
   "cell_type": "code",
   "execution_count": 1,
   "metadata": {},
   "outputs": [
    {
     "name": "stdout",
     "output_type": "stream",
     "text": [
      "200930-19:29:28,155 nipype.utils WARNING:\n",
      "\t A newer version (1.5.1) of nipy/nipype is available. You are using 1.5.0-rc1.post-dev\n"
     ]
    }
   ],
   "source": [
    "from os.path import join as opj\n",
    "import os\n",
    "import json\n",
    "from nipype.interfaces.fsl import (BET, ExtractROI, FAST, FLIRT, ImageMaths,\n",
    "                                   MCFLIRT, SliceTimer, Threshold, IsotropicSmooth)\n",
    "from nipype.interfaces.spm import Smooth\n",
    "from nipype.interfaces.utility import IdentityInterface\n",
    "from nipype.interfaces.io import SelectFiles, DataSink\n",
    "from nipype.algorithms.rapidart import ArtifactDetect\n",
    "from nipype import Workflow, Node"
   ]
  },
  {
   "cell_type": "markdown",
   "metadata": {},
   "source": [
    "### check TR"
   ]
  },
  {
   "cell_type": "code",
   "execution_count": 2,
   "metadata": {},
   "outputs": [],
   "source": [
    "import numpy as np\n",
    "import nibabel as nib"
   ]
  },
  {
   "cell_type": "code",
   "execution_count": 3,
   "metadata": {},
   "outputs": [],
   "source": [
    "func_img = nib.load('/data/sub-06/func/sub-06_task-tsl_run-1_space-MNI152NLin2009cAsym_desc-preproc_bold.nii.gz')"
   ]
  },
  {
   "cell_type": "code",
   "execution_count": 4,
   "metadata": {},
   "outputs": [
    {
     "data": {
      "text/plain": [
       "(2.4, 2.4, 3.12, 2.0)"
      ]
     },
     "execution_count": 4,
     "metadata": {},
     "output_type": "execute_result"
    }
   ],
   "source": [
    "header = func_img.header\n",
    "header.get_zooms()"
   ]
  },
  {
   "cell_type": "markdown",
   "metadata": {},
   "source": [
    "image spatial voxel sizes (2.4 x 2.4 x 3.12)mm, TR=2s"
   ]
  },
  {
   "cell_type": "code",
   "execution_count": 5,
   "metadata": {
    "scrolled": true
   },
   "outputs": [
    {
     "name": "stdout",
     "output_type": "stream",
     "text": [
      "(81, 96, 63, 246)\n"
     ]
    }
   ],
   "source": [
    "print(header.get_data_shape())"
   ]
  },
  {
   "cell_type": "markdown",
   "metadata": {},
   "source": [
    "shape of image array 246 vols"
   ]
  },
  {
   "cell_type": "markdown",
   "metadata": {},
   "source": [
    "### nipype smoothing workflow"
   ]
  },
  {
   "cell_type": "code",
   "execution_count": 5,
   "metadata": {},
   "outputs": [],
   "source": [
    "experiment_dir = '/output'\n",
    "output_dir = 'smooth'\n",
    "working_dir = 'workingdir'\n",
    "data_dir = '/data'\n",
    "\n",
    "# TR of functional images\n",
    "TR = 2."
   ]
  },
  {
   "cell_type": "code",
   "execution_count": 6,
   "metadata": {},
   "outputs": [],
   "source": [
    "# ExtractROI - skip dummy scans\n",
    "extract = Node(ExtractROI(t_min=4, t_size=-1, output_type='NIFTI'),\n",
    "               name=\"extract\")\n",
    "\n",
    "# Smooth - image smoothing\n",
    "smooth = Node(Smooth(fwhm=[8,8,8]), name=\"smooth\")\n",
    "# smooth = Node(IsotropicSmooth(fwhm=4), name='smooth')"
   ]
  },
  {
   "cell_type": "markdown",
   "metadata": {},
   "source": [
    "### specify input/output"
   ]
  },
  {
   "cell_type": "code",
   "execution_count": 7,
   "metadata": {
    "scrolled": true
   },
   "outputs": [
    {
     "name": "stdout",
     "output_type": "stream",
     "text": [
      "['36', '43', '09', '16', '19', '33', '08', '32', '21', '42', '31', '17', '07', '14', '23', '13', '15', '44', '18', '37', '28', '29', '24', '26', '41', '20', '06', '27', '30', '38', '11', '25', '10', '22', '39']\n",
      "35\n"
     ]
    }
   ],
   "source": [
    "sj_ls = []\n",
    "for f in os.listdir('/data/'):\n",
    "    if f.endswith('.html'):\n",
    "#         print(f)\n",
    "        sj_ls.append(f[4:6])\n",
    "print(sj_ls)\n",
    "print(len(sj_ls))"
   ]
  },
  {
   "cell_type": "code",
   "execution_count": 8,
   "metadata": {},
   "outputs": [],
   "source": [
    "# crashed within subject 29, remaining runs other than 3-4\n",
    "sj_ls.remove('29')"
   ]
  },
  {
   "cell_type": "code",
   "execution_count": 9,
   "metadata": {},
   "outputs": [
    {
     "name": "stdout",
     "output_type": "stream",
     "text": [
      "34\n"
     ]
    }
   ],
   "source": [
    "print(len(sj_ls))"
   ]
  },
  {
   "cell_type": "code",
   "execution_count": null,
   "metadata": {
    "scrolled": true
   },
   "outputs": [],
   "source": [
    "# sort subjects according to \n",
    "for sj in sj_ls:\n",
    "    fl = []\n",
    "    for f in os.listdir('/data/sub-'+sj+'/func'):\n",
    "        if f.endswith('bold.nii.gz'):\n",
    "#             print(f)\n",
    "            fl.append(f[20])\n",
    "    print(f'subject %s has %s sessions.' % (sj, fl))\n",
    "    # run\n",
    "    preproc = define_workflow([sj], fl, experiment_dir, output_dir)\n",
    "    preproc.run('MultiProc', plugin_args={'n_procs': 4})"
   ]
  },
  {
   "cell_type": "code",
   "execution_count": 10,
   "metadata": {},
   "outputs": [],
   "source": [
    "def define_workflow(subject_list, run_list, experiment_dir, output_dir):\n",
    "    \"\"\"run the smooth workflow given subject and runs\"\"\"\n",
    "    # ExtractROI - skip dummy scans\n",
    "    extract = Node(ExtractROI(t_min=4, t_size=-1, output_type='NIFTI'),\n",
    "               name=\"extract\")\n",
    "\n",
    "    # Smooth - image smoothing\n",
    "    smooth = Node(Smooth(fwhm=[8,8,8]), name=\"smooth\")\n",
    "    \n",
    "    # Infosource - a function free node to iterate over the list of subject names\n",
    "    # subject_list = ['39']\n",
    "    # run_list = ['1','2','3','4','5']\n",
    "\n",
    "    # infosource = Node(IdentityInterface(fields=['subject_id']),\n",
    "    infosource = Node(IdentityInterface(fields=['subject_id','run_num']),\n",
    "                      name=\"infosource\")\n",
    "    infosource.iterables = [('subject_id', subject_list),\n",
    "                           ('run_num', run_list)]\n",
    "\n",
    "    # SelectFiles - to grab the data (alternativ to DataGrabber)\n",
    "    func_file = opj('sub-{subject_id}', 'func',\n",
    "                    'sub-{subject_id}_task-tsl_run-{run_num}_space-MNI152NLin2009cAsym_desc-preproc_bold.nii.gz')\n",
    "\n",
    "    templates = {'func': func_file}\n",
    "    selectfiles = Node(SelectFiles(templates,\n",
    "                        base_directory=data_dir),\n",
    "                       name=\"selectfiles\")\n",
    "\n",
    "    # Datasink - creates output folder for important outputs\n",
    "    datasink = Node(DataSink(base_directory=experiment_dir,\n",
    "                             container=output_dir),\n",
    "                    name=\"datasink\")\n",
    "\n",
    "    ## Use the following DataSink output substitutions\n",
    "    substitutions = [('_subject_id_', 'sub-'),\n",
    "                     ('ssub', 'sub'),\n",
    "                     ('_space-MNI152NLin2009cAsym_desc-preproc_', '_fwhm-8_'),\n",
    "                     ('_fwhm_', ''),\n",
    "                     ('_roi', '')\n",
    "                     ]\n",
    "    substitutions += [('_run_num_%s' % r, '') for r in run_list]\n",
    "    # substitutions += [('_subject_id_%s/detrend' % s,\n",
    "    #                    '_subject_id_%s/sub-%s_detrend' % (s, s)) for s in subject_list]\n",
    "    # subjFolders = [('fwhm-%s/' % f, 'fwhm-%s_' % f) for f in fwhm]\n",
    "    # substitutions.extend(subjFolders)\n",
    "    datasink.inputs.substitutions = substitutions\n",
    "    \n",
    "    # Create a preprocessing workflow\n",
    "    preproc = Workflow(name='preproc')\n",
    "    preproc.base_dir = opj(experiment_dir, working_dir)\n",
    "    \n",
    "    # Connect all components of the preprocessing workflow (spm smooth)\n",
    "    preproc.connect([(infosource, selectfiles, [('subject_id', 'subject_id'),\n",
    "                                           ('run_num', 'run_num')]),\n",
    "                 (selectfiles, extract, [('func', 'in_file')]),\n",
    "                 (extract, smooth, [('roi_file', 'in_files')]),\n",
    "                 (smooth, datasink, [('smoothed_files', 'preproc.@smooth')])\n",
    "                ])\n",
    "    return preproc"
   ]
  },
  {
   "cell_type": "markdown",
   "metadata": {},
   "source": [
    "### previous code"
   ]
  },
  {
   "cell_type": "code",
   "execution_count": 78,
   "metadata": {},
   "outputs": [],
   "source": [
    "# Create a preprocessing workflow\n",
    "preproc = Workflow(name='preproc')\n",
    "preproc.base_dir = opj(experiment_dir, working_dir)"
   ]
  },
  {
   "cell_type": "code",
   "execution_count": 79,
   "metadata": {},
   "outputs": [],
   "source": [
    "# Connect all components of the preprocessing workflow (spm smooth)\n",
    "preproc.connect([(infosource, selectfiles, [('subject_id', 'subject_id')]),\n",
    "#                                            ('run_num', 'run_num')]),\n",
    "                 (selectfiles, extract, [('func', 'in_file')]),\n",
    "                 (extract, smooth, [('roi_file', 'in_files')]),\n",
    "                 (smooth, datasink, [('smoothed_files', 'preproc.@smooth')])\n",
    "                ])"
   ]
  },
  {
   "cell_type": "code",
   "execution_count": 42,
   "metadata": {},
   "outputs": [],
   "source": [
    "# # Connect all components of the preprocessing workflow (fsl smooth)\n",
    "# preproc.connect([(infosource, selectfiles, [('subject_id', 'subject_id'),\n",
    "#                                            ('run_num', 'run_num')]),\n",
    "#                  (selectfiles, extract, [('func', 'in_file')]),\n",
    "#                  (extract, smooth, [('roi_file', 'in_file')]),\n",
    "#                  (smooth, datasink, [('out_file', 'preproc.@smooth')])\n",
    "#                 ])"
   ]
  },
  {
   "cell_type": "code",
   "execution_count": 23,
   "metadata": {
    "scrolled": true
   },
   "outputs": [],
   "source": [
    "preproc.run('MultiProc', plugin_args={'n_procs': 4})"
   ]
  },
  {
   "cell_type": "code",
   "execution_count": 44,
   "metadata": {},
   "outputs": [
    {
     "name": "stdout",
     "output_type": "stream",
     "text": [
      "200930-09:54:41,649 nipype.workflow INFO:\n",
      "\t Generated workflow graph: /output/workingdir/preproc/graph.png (graph2use=flat, simple_form=True).\n"
     ]
    },
    {
     "data": {
      "image/png": "[encoded data removed]",
      "text/plain": [
       "<IPython.core.display.Image object>"
      ]
     },
     "execution_count": 44,
     "metadata": {},
     "output_type": "execute_result"
    }
   ],
   "source": [
    "# preproc.write_graph(graph2use='colored', format='png', simple_form=True)\n",
    "preproc.write_graph(graph2use='flat', format='png', simple_form=True)\n",
    "\n",
    "# Visualize the graph\n",
    "from IPython.display import Image\n",
    "Image(filename=opj(preproc.base_dir, 'preproc', 'graph.png'))"
   ]
  },
  {
   "cell_type": "markdown",
   "metadata": {},
   "source": [
    "### checking different smooth methods"
   ]
  },
  {
   "cell_type": "markdown",
   "metadata": {},
   "source": [
    "fslmath"
   ]
  },
  {
   "cell_type": "code",
   "execution_count": 10,
   "metadata": {},
   "outputs": [],
   "source": [
    "smooth_img = nib.load('/output/smooth/preproc/sub-06/sub-06_task-tsl_run-1_fwhm-8_bold_smooth.nii.gz')"
   ]
  },
  {
   "cell_type": "code",
   "execution_count": 11,
   "metadata": {},
   "outputs": [
    {
     "data": {
      "text/plain": [
       "(2.4, 2.4, 3.12, 2.0)"
      ]
     },
     "execution_count": 11,
     "metadata": {},
     "output_type": "execute_result"
    }
   ],
   "source": [
    "header = smooth_img.header\n",
    "header.get_zooms()"
   ]
  },
  {
   "cell_type": "code",
   "execution_count": 12,
   "metadata": {
    "scrolled": true
   },
   "outputs": [
    {
     "name": "stdout",
     "output_type": "stream",
     "text": [
      "(81, 96, 63, 242)\n"
     ]
    }
   ],
   "source": [
    "print(header.get_data_shape())"
   ]
  },
  {
   "cell_type": "markdown",
   "metadata": {},
   "source": [
    "spm "
   ]
  },
  {
   "cell_type": "code",
   "execution_count": 13,
   "metadata": {},
   "outputs": [],
   "source": [
    "smooth_img = nib.load('/output/smooth/preproc/sub-06/sub-06_task-tsl_run-1_fwhm-8_bold.nii')"
   ]
  },
  {
   "cell_type": "code",
   "execution_count": 14,
   "metadata": {},
   "outputs": [
    {
     "data": {
      "text/plain": [
       "(2.4, 2.4, 3.12, 0.0)"
      ]
     },
     "execution_count": 14,
     "metadata": {},
     "output_type": "execute_result"
    }
   ],
   "source": [
    "header = smooth_img.header\n",
    "header.get_zooms()"
   ]
  },
  {
   "cell_type": "code",
   "execution_count": 15,
   "metadata": {
    "scrolled": true
   },
   "outputs": [
    {
     "name": "stdout",
     "output_type": "stream",
     "text": [
      "(81, 96, 63, 242)\n"
     ]
    }
   ],
   "source": [
    "print(header.get_data_shape())"
   ]
  },
  {
   "cell_type": "code",
   "execution_count": 18,
   "metadata": {},
   "outputs": [],
   "source": [
    "from nilearn.plotting import plot_anat, plot_epi, plot_img\n",
    "import numpy as np\n",
    "import nibabel as nb\n",
    "import matplotlib.pyplot as plt\n",
    "\n",
    "# Let's create a short helper function to plot 3D NIfTI images\n",
    "def plot_slice(fname):\n",
    "\n",
    "    # Load the image\n",
    "    img = nb.load(fname)\n",
    "    data = img.get_data()\n",
    "\n",
    "    # Cut in the middle of the brain\n",
    "    cut = int(data.shape[-2]/2) + 10\n",
    "\n",
    "    # Plot the data\n",
    "    plt.imshow(np.rot90(data[..., cut, 0]), cmap=\"gray\")\n",
    "    plt.gca().set_axis_off()"
   ]
  },
  {
   "cell_type": "code",
   "execution_count": 20,
   "metadata": {},
   "outputs": [
    {
     "name": "stderr",
     "output_type": "stream",
     "text": [
      "/opt/miniconda-latest/envs/neuro/lib/python3.6/site-packages/ipykernel_launcher.py:11: DeprecationWarning: get_data() is deprecated in favor of get_fdata(), which has a more predictable return type. To obtain get_data() behavior going forward, use numpy.asanyarray(img.dataobj).\n",
      "\n",
      "* deprecated from version: 3.0\n",
      "* Will raise <class 'nibabel.deprecator.ExpiredDeprecationError'> as of version: 5.0\n",
      "  # This is added back by InteractiveShellApp.init_path()\n"
     ]
    },
    {
     "data": {
      "image/png": "[encoded data removed]",
      "text/plain": [
       "<Figure size 432x288 with 1 Axes>"
      ]
     },
     "metadata": {
      "needs_background": "light"
     },
     "output_type": "display_data"
    }
   ],
   "source": [
    "plot_slice('/output/smooth/preproc/sub-06/sub-06_task-tsl_run-1_fwhm-8_bold.nii')"
   ]
  },
  {
   "cell_type": "code",
   "execution_count": null,
   "metadata": {},
   "outputs": [],
   "source": []
  }
 ],
 "metadata": {
  "kernelspec": {
   "display_name": "Python 3",
   "language": "python",
   "name": "python3"
  },
  "language_info": {
   "codemirror_mode": {
    "name": "ipython",
    "version": 3
   },
   "file_extension": ".py",
   "mimetype": "text/x-python",
   "name": "python",
   "nbconvert_exporter": "python",
   "pygments_lexer": "ipython3",
   "version": "3.6.10"
  }
 },
 "nbformat": 4,
 "nbformat_minor": 4
}
