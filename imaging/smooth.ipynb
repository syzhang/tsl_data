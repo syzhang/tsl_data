{
 "cells": [
  {
   "cell_type": "markdown",
   "metadata": {},
   "source": [
    "### smoothing"
   ]
  },
  {
   "cell_type": "code",
   "execution_count": 1,
   "metadata": {},
   "outputs": [
    {
     "name": "stdout",
     "output_type": "stream",
     "text": [
      "200929-13:31:33,357 nipype.utils WARNING:\n",
      "\t A newer version (1.5.1) of nipy/nipype is available. You are using 1.5.0-rc1.post-dev\n"
     ]
    }
   ],
   "source": [
    "from os.path import join as opj\n",
    "import os\n",
    "import json\n",
    "from nipype.interfaces.fsl import (BET, ExtractROI, FAST, FLIRT, ImageMaths,\n",
    "                                   MCFLIRT, SliceTimer, Threshold)\n",
    "from nipype.interfaces.spm import Smooth\n",
    "from nipype.interfaces.utility import IdentityInterface\n",
    "from nipype.interfaces.io import SelectFiles, DataSink\n",
    "from nipype.algorithms.rapidart import ArtifactDetect\n",
    "from nipype import Workflow, Node"
   ]
  },
  {
   "cell_type": "markdown",
   "metadata": {},
   "source": [
    "### check TR"
   ]
  },
  {
   "cell_type": "code",
   "execution_count": 2,
   "metadata": {},
   "outputs": [],
   "source": [
    "import numpy as np\n",
    "import nibabel as nib"
   ]
  },
  {
   "cell_type": "code",
   "execution_count": 3,
   "metadata": {},
   "outputs": [],
   "source": [
    "func_img = nib.load('/data/sub-06/func/sub-06_task-tsl_run-1_space-MNI152NLin2009cAsym_desc-preproc_bold.nii.gz')"
   ]
  },
  {
   "cell_type": "code",
   "execution_count": 4,
   "metadata": {},
   "outputs": [
    {
     "data": {
      "text/plain": [
       "(2.4, 2.4, 3.12, 2.0)"
      ]
     },
     "execution_count": 4,
     "metadata": {},
     "output_type": "execute_result"
    }
   ],
   "source": [
    "header = func_img.header\n",
    "header.get_zooms()"
   ]
  },
  {
   "cell_type": "markdown",
   "metadata": {},
   "source": [
    "image spatial voxel sizes (2.4 x 2.4 x 3.12)mm, TR=2s"
   ]
  },
  {
   "cell_type": "markdown",
   "metadata": {},
   "source": [
    "### nipype smoothing workflow"
   ]
  },
  {
   "cell_type": "code",
   "execution_count": 46,
   "metadata": {},
   "outputs": [],
   "source": [
    "experiment_dir = '/output'\n",
    "output_dir = 'datasink'\n",
    "working_dir = 'workingdir'\n",
    "data_dir = '/data'\n",
    "\n",
    "# list of subject identifiers\n",
    "subject_list = ['06']\n",
    "\n",
    "# Smoothing widths to apply\n",
    "fwhm = [4,8]\n",
    "\n",
    "# TR of functional images\n",
    "TR = 2.\n",
    "\n",
    "# Isometric resample of functional images to voxel size (in mm)\n",
    "iso_size = 4"
   ]
  },
  {
   "cell_type": "code",
   "execution_count": 47,
   "metadata": {},
   "outputs": [],
   "source": [
    "# ExtractROI - skip dummy scans\n",
    "extract = Node(ExtractROI(t_min=4, t_size=-1, output_type='NIFTI_GZ'),\n",
    "               name=\"extract\")\n",
    "\n",
    "# Smooth - image smoothing\n",
    "smooth = Node(Smooth(), name=\"smooth\")\n",
    "smooth.iterables = (\"fwhm\", fwhm)"
   ]
  },
  {
   "cell_type": "markdown",
   "metadata": {},
   "source": [
    "### specify input/output"
   ]
  },
  {
   "cell_type": "code",
   "execution_count": 10,
   "metadata": {},
   "outputs": [
    {
     "name": "stdout",
     "output_type": "stream",
     "text": [
      "sub-06_desc-preproc_T1w.nii.gz\n",
      "sub-06_space-MNI152NLin2009cAsym_desc-preproc_T1w.nii.gz\n"
     ]
    }
   ],
   "source": [
    "for f in os.listdir('/data/sub-06/anat'):\n",
    "    if f.endswith('T1w.nii.gz'):\n",
    "        print(f)"
   ]
  },
  {
   "cell_type": "code",
   "execution_count": 11,
   "metadata": {},
   "outputs": [
    {
     "name": "stdout",
     "output_type": "stream",
     "text": [
      "sub-06_task-tsl_run-5_space-MNI152NLin2009cAsym_desc-preproc_bold.nii.gz\n",
      "sub-06_task-tsl_run-3_space-MNI152NLin2009cAsym_desc-preproc_bold.nii.gz\n",
      "sub-06_task-tsl_run-1_space-MNI152NLin2009cAsym_desc-preproc_bold.nii.gz\n",
      "sub-06_task-tsl_run-2_space-MNI152NLin2009cAsym_desc-preproc_bold.nii.gz\n",
      "sub-06_task-tsl_run-4_space-MNI152NLin2009cAsym_desc-preproc_bold.nii.gz\n"
     ]
    }
   ],
   "source": [
    "for f in os.listdir('/data/sub-06/func'):\n",
    "    if f.endswith('bold.nii.gz'):\n",
    "        print(f)"
   ]
  },
  {
   "cell_type": "code",
   "execution_count": 48,
   "metadata": {},
   "outputs": [],
   "source": [
    "# Infosource - a function free node to iterate over the list of subject names\n",
    "infosource = Node(IdentityInterface(fields=['subject_id']),\n",
    "                  name=\"infosource\")\n",
    "infosource.iterables = [('subject_id', subject_list)]\n",
    "\n",
    "# SelectFiles - to grab the data (alternativ to DataGrabber)\n",
    "anat_file = opj('sub-{subject_id}', 'anat', \n",
    "                'sub-{subject_id}_space-MNI152NLin2009cAsym_desc-preproc_T1w.nii.gz')\n",
    "func_file = opj('sub-{subject_id}', 'func',\n",
    "                'sub-{subject_id}_*_bold.nii.gz')\n",
    "\n",
    "templates = {'anat': anat_file,\n",
    "             'func': func_file}\n",
    "selectfiles = Node(SelectFiles(templates,\n",
    "                    base_directory=data_dir),\n",
    "                   name=\"selectfiles\")\n",
    "\n",
    "# Datasink - creates output folder for important outputs\n",
    "datasink = Node(DataSink(base_directory=experiment_dir,\n",
    "                         container=output_dir),\n",
    "                name=\"datasink\")\n",
    "\n",
    "## Use the following DataSink output substitutions\n",
    "substitutions = [('_subject_id_', 'sub-'),\n",
    "                 ('_fwhm_', 'fwhm-'),\n",
    "                 ('_roi', '')\n",
    "                 ]\n",
    "subjFolders = [('fwhm-%s/' % f, 'fwhm-%s_' % f) for f in fwhm]\n",
    "substitutions.extend(subjFolders)\n",
    "datasink.inputs.substitutions = substitutions"
   ]
  },
  {
   "cell_type": "code",
   "execution_count": 49,
   "metadata": {},
   "outputs": [],
   "source": [
    "# Create a preprocessing workflow\n",
    "preproc = Workflow(name='preproc')\n",
    "preproc.base_dir = opj(experiment_dir, working_dir)\n",
    "\n",
    "# Connect all components of the preprocessing workflow\n",
    "preproc.connect([(infosource, selectfiles, [('subject_id', 'subject_id')])                ])"
   ]
  },
  {
   "cell_type": "code",
   "execution_count": 50,
   "metadata": {},
   "outputs": [
    {
     "name": "stdout",
     "output_type": "stream",
     "text": [
      "200929-14:14:57,231 nipype.workflow INFO:\n",
      "\t Workflow preproc settings: ['check', 'execution', 'logging', 'monitoring']\n",
      "200929-14:14:57,241 nipype.workflow INFO:\n",
      "\t Running serially.\n",
      "200929-14:14:57,242 nipype.workflow INFO:\n",
      "\t [Node] Setting-up \"preproc.selectfiles\" in \"/output/workingdir/preproc/_subject_id_06/selectfiles\".\n",
      "200929-14:14:57,248 nipype.workflow INFO:\n",
      "\t [Node] Running \"selectfiles\" (\"nipype.interfaces.io.SelectFiles\")\n",
      "200929-14:14:57,253 nipype.workflow INFO:\n",
      "\t [Node] Finished \"preproc.selectfiles\".\n"
     ]
    },
    {
     "data": {
      "text/plain": [
       "<networkx.classes.digraph.DiGraph at 0x7f730dfc9400>"
      ]
     },
     "execution_count": 50,
     "metadata": {},
     "output_type": "execute_result"
    }
   ],
   "source": [
    "preproc.run()"
   ]
  },
  {
   "cell_type": "code",
   "execution_count": 51,
   "metadata": {},
   "outputs": [
    {
     "data": {
      "text/plain": [
       "\n",
       "infosource = \n",
       "subject_id = None\n",
       "\n",
       "selectfiles = \n",
       "anat = None\n",
       "func = None\n"
      ]
     },
     "execution_count": 51,
     "metadata": {},
     "output_type": "execute_result"
    }
   ],
   "source": [
    "preproc.outputs"
   ]
  },
  {
   "cell_type": "code",
   "execution_count": 19,
   "metadata": {},
   "outputs": [],
   "source": [
    "# Create a preprocessing workflow\n",
    "preproc = Workflow(name='preproc')\n",
    "preproc.base_dir = opj(experiment_dir, working_dir)\n",
    "\n",
    "# Connect all components of the preprocessing workflow\n",
    "preproc.connect([(infosource, selectfiles, [('subject_id', 'subject_id')]),\n",
    "                 (selectfiles, extract, [('func', 'in_file')]),\n",
    "                 (extract, smooth, [('roi_file', 'in_files')])\n",
    "                ])"
   ]
  },
  {
   "cell_type": "code",
   "execution_count": 23,
   "metadata": {},
   "outputs": [
    {
     "name": "stdout",
     "output_type": "stream",
     "text": [
      "200929-14:07:48,608 nipype.workflow INFO:\n",
      "\t Generated workflow graph: /output/workingdir/preproc/graph.png (graph2use=colored, simple_form=True).\n"
     ]
    },
    {
     "data": {
      "image/png": "[encoded data removed]",
      "text/plain": [
       "<IPython.core.display.Image object>"
      ]
     },
     "execution_count": 23,
     "metadata": {},
     "output_type": "execute_result"
    }
   ],
   "source": [
    "preproc.write_graph(graph2use='colored', format='png', simple_form=True)\n",
    "\n",
    "# Visualize the graph\n",
    "from IPython.display import Image\n",
    "Image(filename=opj(preproc.base_dir, 'preproc', 'graph.png'))"
   ]
  },
  {
   "cell_type": "code",
   "execution_count": 21,
   "metadata": {
    "scrolled": true
   },
   "outputs": [
    {
     "name": "stdout",
     "output_type": "stream",
     "text": [
      "200929-14:05:05,921 nipype.workflow INFO:\n",
      "\t Workflow preproc settings: ['check', 'execution', 'logging', 'monitoring']\n",
      "200929-14:05:05,976 nipype.workflow INFO:\n",
      "\t Running in parallel.\n",
      "200929-14:05:06,39 nipype.workflow INFO:\n",
      "\t [MultiProc] Running 0 tasks, and 2 jobs ready. Free memory (GB): 14.07/14.07, Free processors: 4/4.\n",
      "200929-14:05:06,271 nipype.workflow INFO:\n",
      "\t [Node] Setting-up \"preproc.selectfiles\" in \"/output/workingdir/preproc/_subject_id_06/selectfiles\".200929-14:05:06,271 nipype.workflow INFO:\n",
      "\t [Node] Setting-up \"preproc.selectfiles\" in \"/output/workingdir/preproc/_subject_id_07/selectfiles\".\n",
      "\n",
      "200929-14:05:06,285 nipype.workflow INFO:\n",
      "\t [Node] Running \"selectfiles\" (\"nipype.interfaces.io.SelectFiles\")200929-14:05:06,284 nipype.workflow INFO:\n",
      "\t [Node] Running \"selectfiles\" (\"nipype.interfaces.io.SelectFiles\")\n",
      "\n",
      "200929-14:05:06,299 nipype.workflow INFO:\n",
      "\t [Node] Finished \"preproc.selectfiles\".\n",
      "200929-14:05:06,323 nipype.workflow INFO:\n",
      "\t [Node] Finished \"preproc.selectfiles\".\n",
      "200929-14:05:08,30 nipype.workflow INFO:\n",
      "\t [Job 0] Completed (preproc.selectfiles).\n",
      "200929-14:05:08,33 nipype.workflow INFO:\n",
      "\t [Job 4] Completed (preproc.selectfiles).\n",
      "200929-14:05:08,37 nipype.workflow INFO:\n",
      "\t [MultiProc] Running 0 tasks, and 2 jobs ready. Free memory (GB): 14.07/14.07, Free processors: 4/4.\n",
      "200929-14:05:08,201 nipype.workflow INFO:\n",
      "\t [Node] Setting-up \"preproc.extract\" in \"/output/workingdir/preproc/_subject_id_07/extract\".200929-14:05:08,201 nipype.workflow INFO:\n",
      "\t [Node] Setting-up \"preproc.extract\" in \"/output/workingdir/preproc/_subject_id_06/extract\".\n",
      "\n"
     ]
    },
    {
     "name": "stderr",
     "output_type": "stream",
     "text": [
      "exception calling callback for <Future at 0x7f730f1978d0 state=finished raised FileNotFoundError>\n",
      "concurrent.futures.process._RemoteTraceback: \n",
      "\"\"\"\n",
      "Traceback (most recent call last):\n",
      "  File \"/opt/miniconda-latest/envs/neuro/lib/python3.6/site-packages/nipype/pipeline/plugins/multiproc.py\", line 148, in __init__\n",
      "    mp_context=mp_context,\n",
      "TypeError: __init__() got an unexpected keyword argument 'initializer'\n",
      "\n",
      "During handling of the above exception, another exception occurred:\n",
      "\n",
      "Traceback (most recent call last):\n",
      "  File \"/opt/miniconda-latest/envs/neuro/lib/python3.6/site-packages/nipype/interfaces/base/traits_extension.py\", line 129, in validate\n",
      "    value = Path(value)  # Use pathlib's validation\n",
      "  File \"/opt/miniconda-latest/envs/neuro/lib/python3.6/pathlib.py\", line 1001, in __new__\n",
      "    self = cls._from_parts(args, init=False)\n",
      "  File \"/opt/miniconda-latest/envs/neuro/lib/python3.6/pathlib.py\", line 656, in _from_parts\n",
      "    drv, root, parts = self._parse_args(args)\n",
      "  File \"/opt/miniconda-latest/envs/neuro/lib/python3.6/pathlib.py\", line 640, in _parse_args\n",
      "    a = os.fspath(a)\n",
      "TypeError: expected str, bytes or os.PathLike object, not list\n",
      "\n",
      "During handling of the above exception, another exception occurred:\n",
      "\n",
      "Traceback (most recent call last):\n",
      "  File \"/opt/miniconda-latest/envs/neuro/lib/python3.6/site-packages/nipype/pipeline/plugins/multiproc.py\", line 67, in run_node\n",
      "    result[\"result\"] = node.run(updatehash=updatehash)\n",
      "  File \"/opt/miniconda-latest/envs/neuro/lib/python3.6/site-packages/nipype/pipeline/engine/nodes.py\", line 486, in run\n",
      "    self._get_hashval()\n",
      "  File \"/opt/miniconda-latest/envs/neuro/lib/python3.6/site-packages/nipype/pipeline/engine/nodes.py\", line 538, in _get_hashval\n",
      "    self._get_inputs()\n",
      "  File \"/opt/miniconda-latest/envs/neuro/lib/python3.6/site-packages/nipype/pipeline/engine/nodes.py\", line 609, in _get_inputs\n",
      "    self.set_input(key, deepcopy(output_value))\n",
      "  File \"/opt/miniconda-latest/envs/neuro/lib/python3.6/site-packages/nipype/pipeline/engine/nodes.py\", line 302, in set_input\n",
      "    setattr(self.inputs, parameter, deepcopy(val))\n",
      "  File \"/opt/miniconda-latest/envs/neuro/lib/python3.6/site-packages/nipype/interfaces/base/traits_extension.py\", line 330, in validate\n",
      "    value = super(File, self).validate(objekt, name, value, return_pathlike=True)\n",
      "  File \"/opt/miniconda-latest/envs/neuro/lib/python3.6/site-packages/nipype/interfaces/base/traits_extension.py\", line 131, in validate\n",
      "    self.error(objekt, name, str(value))\n",
      "  File \"/opt/miniconda-latest/envs/neuro/lib/python3.6/site-packages/traits/base_trait_handler.py\", line 77, in error\n",
      "    object, name, self.full_info(object, name, value), value\n",
      "traits.trait_errors.TraitError: The 'in_file' trait of an ExtractROIInputSpec instance must be a pathlike object or string representing an existing file, but a value of \"['/data/sub-06/func/sub-06_task-tsl_run-1_space-MNI152NLin2009cAsym_desc-preproc_bold.nii.gz', '/data/sub-06/func/sub-06_task-tsl_run-2_space-MNI152NLin2009cAsym_desc-preproc_bold.nii.gz', '/data/sub-06/func/sub-06_task-tsl_run-3_space-MNI152NLin2009cAsym_desc-preproc_bold.nii.gz', '/data/sub-06/func/sub-06_task-tsl_run-4_space-MNI152NLin2009cAsym_desc-preproc_bold.nii.gz', '/data/sub-06/func/sub-06_task-tsl_run-5_space-MNI152NLin2009cAsym_desc-preproc_bold.nii.gz']\" <class 'str'> was specified.\n",
      "\n",
      "Error setting node input:\n",
      "Node: extract\n",
      "input: in_file\n",
      "results_file: /output/workingdir/preproc/_subject_id_06/selectfiles/result_selectfiles.pklz\n",
      "value: ['/data/sub-06/func/sub-06_task-tsl_run-1_space-MNI152NLin2009cAsym_desc-preproc_bold.nii.gz', '/data/sub-06/func/sub-06_task-tsl_run-2_space-MNI152NLin2009cAsym_desc-preproc_bold.nii.gz', '/data/sub-06/func/sub-06_task-tsl_run-3_space-MNI152NLin2009cAsym_desc-preproc_bold.nii.gz', '/data/sub-06/func/sub-06_task-tsl_run-4_space-MNI152NLin2009cAsym_desc-preproc_bold.nii.gz', '/data/sub-06/func/sub-06_task-tsl_run-5_space-MNI152NLin2009cAsym_desc-preproc_bold.nii.gz']\n",
      "\n",
      "During handling of the above exception, another exception occurred:\n",
      "\n",
      "Traceback (most recent call last):\n",
      "  File \"/opt/miniconda-latest/envs/neuro/lib/python3.6/concurrent/futures/process.py\", line 175, in _process_worker\n",
      "    r = call_item.fn(*call_item.args, **call_item.kwargs)\n",
      "  File \"/opt/miniconda-latest/envs/neuro/lib/python3.6/site-packages/nipype/pipeline/plugins/multiproc.py\", line 70, in run_node\n",
      "    result[\"result\"] = node.result\n",
      "  File \"/opt/miniconda-latest/envs/neuro/lib/python3.6/site-packages/nipype/pipeline/engine/nodes.py\", line 217, in result\n",
      "    op.join(self.output_dir(), \"result_%s.pklz\" % self.name)\n",
      "  File \"/opt/miniconda-latest/envs/neuro/lib/python3.6/site-packages/nipype/pipeline/engine/utils.py\", line 291, in load_resultfile\n",
      "    raise FileNotFoundError(results_file)\n",
      "FileNotFoundError: /output/workingdir/preproc/_subject_id_06/extract/result_extract.pklz\n",
      "\"\"\"\n",
      "\n",
      "The above exception was the direct cause of the following exception:\n",
      "\n",
      "Traceback (most recent call last):\n",
      "  File \"/opt/miniconda-latest/envs/neuro/lib/python3.6/concurrent/futures/_base.py\", line 324, in _invoke_callbacks\n",
      "    callback(self)\n",
      "  File \"/opt/miniconda-latest/envs/neuro/lib/python3.6/site-packages/nipype/pipeline/plugins/multiproc.py\", line 159, in _async_callback\n",
      "    result = args.result()\n",
      "  File \"/opt/miniconda-latest/envs/neuro/lib/python3.6/concurrent/futures/_base.py\", line 425, in result\n",
      "    return self.__get_result()\n",
      "  File \"/opt/miniconda-latest/envs/neuro/lib/python3.6/concurrent/futures/_base.py\", line 384, in __get_result\n",
      "    raise self._exception\n",
      "FileNotFoundError: /output/workingdir/preproc/_subject_id_06/extract/result_extract.pklz\n",
      "exception calling callback for <Future at 0x7f730f1974e0 state=finished raised FileNotFoundError>\n",
      "concurrent.futures.process._RemoteTraceback: \n",
      "\"\"\"\n",
      "Traceback (most recent call last):\n",
      "  File \"/opt/miniconda-latest/envs/neuro/lib/python3.6/site-packages/nipype/pipeline/plugins/multiproc.py\", line 148, in __init__\n",
      "    mp_context=mp_context,\n",
      "TypeError: __init__() got an unexpected keyword argument 'initializer'\n",
      "\n",
      "During handling of the above exception, another exception occurred:\n",
      "\n",
      "Traceback (most recent call last):\n",
      "  File \"/opt/miniconda-latest/envs/neuro/lib/python3.6/site-packages/nipype/interfaces/base/traits_extension.py\", line 129, in validate\n",
      "    value = Path(value)  # Use pathlib's validation\n",
      "  File \"/opt/miniconda-latest/envs/neuro/lib/python3.6/pathlib.py\", line 1001, in __new__\n",
      "    self = cls._from_parts(args, init=False)\n",
      "  File \"/opt/miniconda-latest/envs/neuro/lib/python3.6/pathlib.py\", line 656, in _from_parts\n",
      "    drv, root, parts = self._parse_args(args)\n",
      "  File \"/opt/miniconda-latest/envs/neuro/lib/python3.6/pathlib.py\", line 640, in _parse_args\n",
      "    a = os.fspath(a)\n",
      "TypeError: expected str, bytes or os.PathLike object, not list\n",
      "\n",
      "During handling of the above exception, another exception occurred:\n",
      "\n",
      "Traceback (most recent call last):\n",
      "  File \"/opt/miniconda-latest/envs/neuro/lib/python3.6/site-packages/nipype/pipeline/plugins/multiproc.py\", line 67, in run_node\n",
      "    result[\"result\"] = node.run(updatehash=updatehash)\n",
      "  File \"/opt/miniconda-latest/envs/neuro/lib/python3.6/site-packages/nipype/pipeline/engine/nodes.py\", line 486, in run\n",
      "    self._get_hashval()\n",
      "  File \"/opt/miniconda-latest/envs/neuro/lib/python3.6/site-packages/nipype/pipeline/engine/nodes.py\", line 538, in _get_hashval\n",
      "    self._get_inputs()\n",
      "  File \"/opt/miniconda-latest/envs/neuro/lib/python3.6/site-packages/nipype/pipeline/engine/nodes.py\", line 609, in _get_inputs\n",
      "    self.set_input(key, deepcopy(output_value))\n",
      "  File \"/opt/miniconda-latest/envs/neuro/lib/python3.6/site-packages/nipype/pipeline/engine/nodes.py\", line 302, in set_input\n",
      "    setattr(self.inputs, parameter, deepcopy(val))\n",
      "  File \"/opt/miniconda-latest/envs/neuro/lib/python3.6/site-packages/nipype/interfaces/base/traits_extension.py\", line 330, in validate\n",
      "    value = super(File, self).validate(objekt, name, value, return_pathlike=True)\n",
      "  File \"/opt/miniconda-latest/envs/neuro/lib/python3.6/site-packages/nipype/interfaces/base/traits_extension.py\", line 131, in validate\n",
      "    self.error(objekt, name, str(value))\n",
      "  File \"/opt/miniconda-latest/envs/neuro/lib/python3.6/site-packages/traits/base_trait_handler.py\", line 77, in error\n",
      "    object, name, self.full_info(object, name, value), value\n",
      "traits.trait_errors.TraitError: The 'in_file' trait of an ExtractROIInputSpec instance must be a pathlike object or string representing an existing file, but a value of \"['/data/sub-07/func/sub-07_task-tsl_run-1_space-MNI152NLin2009cAsym_desc-preproc_bold.nii.gz', '/data/sub-07/func/sub-07_task-tsl_run-2_space-MNI152NLin2009cAsym_desc-preproc_bold.nii.gz', '/data/sub-07/func/sub-07_task-tsl_run-3_space-MNI152NLin2009cAsym_desc-preproc_bold.nii.gz', '/data/sub-07/func/sub-07_task-tsl_run-4_space-MNI152NLin2009cAsym_desc-preproc_bold.nii.gz', '/data/sub-07/func/sub-07_task-tsl_run-5_space-MNI152NLin2009cAsym_desc-preproc_bold.nii.gz']\" <class 'str'> was specified.\n",
      "\n",
      "Error setting node input:\n",
      "Node: extract\n",
      "input: in_file\n",
      "results_file: /output/workingdir/preproc/_subject_id_07/selectfiles/result_selectfiles.pklz\n",
      "value: ['/data/sub-07/func/sub-07_task-tsl_run-1_space-MNI152NLin2009cAsym_desc-preproc_bold.nii.gz', '/data/sub-07/func/sub-07_task-tsl_run-2_space-MNI152NLin2009cAsym_desc-preproc_bold.nii.gz', '/data/sub-07/func/sub-07_task-tsl_run-3_space-MNI152NLin2009cAsym_desc-preproc_bold.nii.gz', '/data/sub-07/func/sub-07_task-tsl_run-4_space-MNI152NLin2009cAsym_desc-preproc_bold.nii.gz', '/data/sub-07/func/sub-07_task-tsl_run-5_space-MNI152NLin2009cAsym_desc-preproc_bold.nii.gz']\n",
      "\n",
      "During handling of the above exception, another exception occurred:\n",
      "\n",
      "Traceback (most recent call last):\n",
      "  File \"/opt/miniconda-latest/envs/neuro/lib/python3.6/concurrent/futures/process.py\", line 175, in _process_worker\n",
      "    r = call_item.fn(*call_item.args, **call_item.kwargs)\n",
      "  File \"/opt/miniconda-latest/envs/neuro/lib/python3.6/site-packages/nipype/pipeline/plugins/multiproc.py\", line 70, in run_node\n",
      "    result[\"result\"] = node.result\n",
      "  File \"/opt/miniconda-latest/envs/neuro/lib/python3.6/site-packages/nipype/pipeline/engine/nodes.py\", line 217, in result\n",
      "    op.join(self.output_dir(), \"result_%s.pklz\" % self.name)\n",
      "  File \"/opt/miniconda-latest/envs/neuro/lib/python3.6/site-packages/nipype/pipeline/engine/utils.py\", line 291, in load_resultfile\n",
      "    raise FileNotFoundError(results_file)\n",
      "FileNotFoundError: /output/workingdir/preproc/_subject_id_07/extract/result_extract.pklz\n",
      "\"\"\"\n",
      "\n",
      "The above exception was the direct cause of the following exception:\n",
      "\n",
      "Traceback (most recent call last):\n",
      "  File \"/opt/miniconda-latest/envs/neuro/lib/python3.6/concurrent/futures/_base.py\", line 324, in _invoke_callbacks\n",
      "    callback(self)\n",
      "  File \"/opt/miniconda-latest/envs/neuro/lib/python3.6/site-packages/nipype/pipeline/plugins/multiproc.py\", line 159, in _async_callback\n",
      "    result = args.result()\n",
      "  File \"/opt/miniconda-latest/envs/neuro/lib/python3.6/concurrent/futures/_base.py\", line 425, in result\n",
      "    return self.__get_result()\n",
      "  File \"/opt/miniconda-latest/envs/neuro/lib/python3.6/concurrent/futures/_base.py\", line 384, in __get_result\n",
      "    raise self._exception\n",
      "FileNotFoundError: /output/workingdir/preproc/_subject_id_07/extract/result_extract.pklz\n"
     ]
    },
    {
     "name": "stdout",
     "output_type": "stream",
     "text": [
      "200929-14:05:10,33 nipype.workflow INFO:\n",
      "\t [MultiProc] Running 2 tasks, and 0 jobs ready. Free memory (GB): 13.67/14.07, Free processors: 2/4.\n",
      "                     Currently running:\n",
      "                       * preproc.extract\n",
      "                       * preproc.extract\n"
     ]
    },
    {
     "name": "stderr",
     "output_type": "stream",
     "text": [
      "Process Process-4:\n",
      "Process Process-3:\n",
      "Process Process-2:\n",
      "Process Process-1:\n",
      "Traceback (most recent call last):\n",
      "  File \"/opt/miniconda-latest/envs/neuro/lib/python3.6/site-packages/nipype/pipeline/plugins/multiproc.py\", line 148, in __init__\n",
      "    mp_context=mp_context,\n",
      "TypeError: __init__() got an unexpected keyword argument 'initializer'\n",
      "\n",
      "During handling of the above exception, another exception occurred:\n",
      "\n",
      "Traceback (most recent call last):\n",
      "  File \"/opt/miniconda-latest/envs/neuro/lib/python3.6/multiprocessing/process.py\", line 258, in _bootstrap\n",
      "    self.run()\n",
      "Traceback (most recent call last):\n",
      "Traceback (most recent call last):\n",
      "Traceback (most recent call last):\n",
      "  File \"/opt/miniconda-latest/envs/neuro/lib/python3.6/multiprocessing/process.py\", line 93, in run\n",
      "    self._target(*self._args, **self._kwargs)\n",
      "  File \"/opt/miniconda-latest/envs/neuro/lib/python3.6/site-packages/nipype/pipeline/plugins/multiproc.py\", line 148, in __init__\n",
      "    mp_context=mp_context,\n",
      "  File \"/opt/miniconda-latest/envs/neuro/lib/python3.6/concurrent/futures/process.py\", line 169, in _process_worker\n",
      "    call_item = call_queue.get(block=True)\n",
      "TypeError: __init__() got an unexpected keyword argument 'initializer'\n",
      "  File \"/opt/miniconda-latest/envs/neuro/lib/python3.6/multiprocessing/queues.py\", line 94, in get\n",
      "    res = self._recv_bytes()\n",
      "\n",
      "During handling of the above exception, another exception occurred:\n",
      "\n",
      "  File \"/opt/miniconda-latest/envs/neuro/lib/python3.6/multiprocessing/connection.py\", line 216, in recv_bytes\n",
      "    buf = self._recv_bytes(maxlength)\n",
      "  File \"/opt/miniconda-latest/envs/neuro/lib/python3.6/multiprocessing/connection.py\", line 407, in _recv_bytes\n",
      "    buf = self._recv(4)\n",
      "Traceback (most recent call last):\n",
      "  File \"/opt/miniconda-latest/envs/neuro/lib/python3.6/multiprocessing/connection.py\", line 379, in _recv\n",
      "    chunk = read(handle, remaining)\n",
      "  File \"/opt/miniconda-latest/envs/neuro/lib/python3.6/multiprocessing/process.py\", line 258, in _bootstrap\n",
      "    self.run()\n",
      "KeyboardInterrupt\n",
      "  File \"/opt/miniconda-latest/envs/neuro/lib/python3.6/multiprocessing/process.py\", line 93, in run\n",
      "    self._target(*self._args, **self._kwargs)\n",
      "  File \"/opt/miniconda-latest/envs/neuro/lib/python3.6/site-packages/nipype/pipeline/plugins/multiproc.py\", line 148, in __init__\n",
      "    mp_context=mp_context,\n"
     ]
    },
    {
     "ename": "KeyboardInterrupt",
     "evalue": "",
     "output_type": "error",
     "traceback": [
      "\u001b[0;31m---------------------------------------------------------------------------\u001b[0m",
      "\u001b[0;31mKeyboardInterrupt\u001b[0m                         Traceback (most recent call last)",
      "\u001b[0;32m<ipython-input-21-e7bed0b326ff>\u001b[0m in \u001b[0;36m<module>\u001b[0;34m\u001b[0m\n\u001b[0;32m----> 1\u001b[0;31m \u001b[0mpreproc\u001b[0m\u001b[0;34m.\u001b[0m\u001b[0mrun\u001b[0m\u001b[0;34m(\u001b[0m\u001b[0;34m'MultiProc'\u001b[0m\u001b[0;34m,\u001b[0m \u001b[0mplugin_args\u001b[0m\u001b[0;34m=\u001b[0m\u001b[0;34m{\u001b[0m\u001b[0;34m'n_procs'\u001b[0m\u001b[0;34m:\u001b[0m \u001b[0;36m4\u001b[0m\u001b[0;34m}\u001b[0m\u001b[0;34m)\u001b[0m\u001b[0;34m\u001b[0m\u001b[0;34m\u001b[0m\u001b[0m\n\u001b[0m",
      "\u001b[0;32m/opt/miniconda-latest/envs/neuro/lib/python3.6/site-packages/nipype/pipeline/engine/workflows.py\u001b[0m in \u001b[0;36mrun\u001b[0;34m(self, plugin, plugin_args, updatehash)\u001b[0m\n\u001b[1;32m    630\u001b[0m         \u001b[0;32mif\u001b[0m \u001b[0mstr2bool\u001b[0m\u001b[0;34m(\u001b[0m\u001b[0mself\u001b[0m\u001b[0;34m.\u001b[0m\u001b[0mconfig\u001b[0m\u001b[0;34m[\u001b[0m\u001b[0;34m\"execution\"\u001b[0m\u001b[0;34m]\u001b[0m\u001b[0;34m[\u001b[0m\u001b[0;34m\"create_report\"\u001b[0m\u001b[0;34m]\u001b[0m\u001b[0;34m)\u001b[0m\u001b[0;34m:\u001b[0m\u001b[0;34m\u001b[0m\u001b[0;34m\u001b[0m\u001b[0m\n\u001b[1;32m    631\u001b[0m             \u001b[0mself\u001b[0m\u001b[0;34m.\u001b[0m\u001b[0m_write_report_info\u001b[0m\u001b[0;34m(\u001b[0m\u001b[0mself\u001b[0m\u001b[0;34m.\u001b[0m\u001b[0mbase_dir\u001b[0m\u001b[0;34m,\u001b[0m \u001b[0mself\u001b[0m\u001b[0;34m.\u001b[0m\u001b[0mname\u001b[0m\u001b[0;34m,\u001b[0m \u001b[0mexecgraph\u001b[0m\u001b[0;34m)\u001b[0m\u001b[0;34m\u001b[0m\u001b[0;34m\u001b[0m\u001b[0m\n\u001b[0;32m--> 632\u001b[0;31m         \u001b[0mrunner\u001b[0m\u001b[0;34m.\u001b[0m\u001b[0mrun\u001b[0m\u001b[0;34m(\u001b[0m\u001b[0mexecgraph\u001b[0m\u001b[0;34m,\u001b[0m \u001b[0mupdatehash\u001b[0m\u001b[0;34m=\u001b[0m\u001b[0mupdatehash\u001b[0m\u001b[0;34m,\u001b[0m \u001b[0mconfig\u001b[0m\u001b[0;34m=\u001b[0m\u001b[0mself\u001b[0m\u001b[0;34m.\u001b[0m\u001b[0mconfig\u001b[0m\u001b[0;34m)\u001b[0m\u001b[0;34m\u001b[0m\u001b[0;34m\u001b[0m\u001b[0m\n\u001b[0m\u001b[1;32m    633\u001b[0m         \u001b[0mdatestr\u001b[0m \u001b[0;34m=\u001b[0m \u001b[0mdatetime\u001b[0m\u001b[0;34m.\u001b[0m\u001b[0mutcnow\u001b[0m\u001b[0;34m(\u001b[0m\u001b[0;34m)\u001b[0m\u001b[0;34m.\u001b[0m\u001b[0mstrftime\u001b[0m\u001b[0;34m(\u001b[0m\u001b[0;34m\"%Y%m%dT%H%M%S\"\u001b[0m\u001b[0;34m)\u001b[0m\u001b[0;34m\u001b[0m\u001b[0;34m\u001b[0m\u001b[0m\n\u001b[1;32m    634\u001b[0m         \u001b[0;32mif\u001b[0m \u001b[0mstr2bool\u001b[0m\u001b[0;34m(\u001b[0m\u001b[0mself\u001b[0m\u001b[0;34m.\u001b[0m\u001b[0mconfig\u001b[0m\u001b[0;34m[\u001b[0m\u001b[0;34m\"execution\"\u001b[0m\u001b[0;34m]\u001b[0m\u001b[0;34m[\u001b[0m\u001b[0;34m\"write_provenance\"\u001b[0m\u001b[0;34m]\u001b[0m\u001b[0;34m)\u001b[0m\u001b[0;34m:\u001b[0m\u001b[0;34m\u001b[0m\u001b[0;34m\u001b[0m\u001b[0m\n",
      "\u001b[0;32m/opt/miniconda-latest/envs/neuro/lib/python3.6/site-packages/nipype/pipeline/plugins/base.py\u001b[0m in \u001b[0;36mrun\u001b[0;34m(self, graph, config, updatehash)\u001b[0m\n\u001b[1;32m    187\u001b[0m \u001b[0;34m\u001b[0m\u001b[0m\n\u001b[1;32m    188\u001b[0m             \u001b[0msleep_til\u001b[0m \u001b[0;34m=\u001b[0m \u001b[0mloop_start\u001b[0m \u001b[0;34m+\u001b[0m \u001b[0mpoll_sleep_secs\u001b[0m\u001b[0;34m\u001b[0m\u001b[0;34m\u001b[0m\u001b[0m\n\u001b[0;32m--> 189\u001b[0;31m             \u001b[0msleep\u001b[0m\u001b[0;34m(\u001b[0m\u001b[0mmax\u001b[0m\u001b[0;34m(\u001b[0m\u001b[0;36m0\u001b[0m\u001b[0;34m,\u001b[0m \u001b[0msleep_til\u001b[0m \u001b[0;34m-\u001b[0m \u001b[0mtime\u001b[0m\u001b[0;34m(\u001b[0m\u001b[0;34m)\u001b[0m\u001b[0;34m)\u001b[0m\u001b[0;34m)\u001b[0m\u001b[0;34m\u001b[0m\u001b[0;34m\u001b[0m\u001b[0m\n\u001b[0m\u001b[1;32m    190\u001b[0m \u001b[0;34m\u001b[0m\u001b[0m\n\u001b[1;32m    191\u001b[0m         \u001b[0mself\u001b[0m\u001b[0;34m.\u001b[0m\u001b[0m_remove_node_dirs\u001b[0m\u001b[0;34m(\u001b[0m\u001b[0;34m)\u001b[0m\u001b[0;34m\u001b[0m\u001b[0;34m\u001b[0m\u001b[0m\n",
      "\u001b[0;31mKeyboardInterrupt\u001b[0m: "
     ]
    }
   ],
   "source": [
    "preproc.run('MultiProc', plugin_args={'n_procs': 4})"
   ]
  },
  {
   "cell_type": "code",
   "execution_count": null,
   "metadata": {},
   "outputs": [],
   "source": []
  }
 ],
 "metadata": {
  "kernelspec": {
   "display_name": "Python 3",
   "language": "python",
   "name": "python3"
  },
  "language_info": {
   "codemirror_mode": {
    "name": "ipython",
    "version": 3
   },
   "file_extension": ".py",
   "mimetype": "text/x-python",
   "name": "python",
   "nbconvert_exporter": "python",
   "pygments_lexer": "ipython3",
   "version": "3.6.10"
  }
 },
 "nbformat": 4,
 "nbformat_minor": 4
}
